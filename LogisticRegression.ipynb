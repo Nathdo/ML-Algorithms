{
 "cells": [
  {
   "cell_type": "markdown",
   "id": "3d9400ca-89de-463e-aad3-c714aa339184",
   "metadata": {},
   "source": [
    "# Logistic Regression\n",
    "\n",
    "Logistic Regression is a widely used statistical method for binary classification problems. It is used to model the probability that a given input belongs to a particular category. Unlike linear regression, which predicts continuous outcomes, logistic regression predicts the probability of a binary outcome (0 or 1).\n",
    "\n",
    "### Key Concepts\n",
    "\n",
    "1. **Odds and Log-Odds**:\n",
    "   - **Odds**: The odds of an event is the ratio of the probability of the event occurring to the probability of it not occurring.\n",
    "     $$\n",
    "     \\text{Odds} = \\frac{p}{1 - p}\n",
    "     $$\n",
    "   - **Log-Odds (Logit)**: The log-odds is the natural logarithm of the odds.\n",
    "     $$\n",
    "     \\text{Logit}(p) = \\ln \\left( \\frac{p}{1 - p} \\right)\n",
    "     $$\n",
    "\n",
    "2. **Logistic Function**:\n",
    "   The logistic function (also known as the sigmoid function) is used to map predicted values to probabilities.\n",
    "   $$\n",
    "   \\sigma(z) = \\frac{1}{1 + e^{-z}}\n",
    "   $$\n",
    "   where \\( z = \\beta_0 + \\beta_1X_1 + \\beta_2X_2 + \\ldots + \\beta_nX_n \\)\n",
    "\n",
    "3. **Probability Prediction**:\n",
    "   The predicted probability for an input \\( X \\) is given by:\n",
    "   $$\n",
    "   \\hat{p} = \\sigma(z) = \\frac{1}{1 + e^{-z}}\n",
    "   $$\n",
    "\n",
    "### Loss Function\n",
    "\n",
    "The loss function for logistic regression, also known as the binary cross-entropy loss or log loss, measures the performance of the classification model whose output is a probability value between 0 and 1. The formula for the loss function is:\n",
    "$$\n",
    "\\text{Loss}(\\hat{y}, y) = - \\left( y \\log(\\hat{y}) + (1 - y) \\log(1 - \\hat{y}) \\right)\n",
    "$$\n",
    "\n",
    "where:\n",
    "- \\( \\hat{y} \\) is the predicted probability.\n",
    "- \\( y \\) is the actual binary label (0 or 1).\n",
    "\n",
    "Logistic regression models are trained by finding the coefficients (\\( \\beta \\)) that minimize this loss function over the training data.\n",
    "\n",
    "### Conclusion\n",
    "\n",
    "Logistic Regression is a powerful and interpretable method for binary classification, making it a foundational tool in the field of statistics and machine learning. By modeling the log-odds of the probabilities, it provides a clear understanding of how input variables are associated with the probability of the outcome.\n"
   ]
  },
  {
   "cell_type": "code",
   "execution_count": 41,
   "id": "b0df4c1d-2b7f-4666-b781-f7c2390d328e",
   "metadata": {},
   "outputs": [
    {
     "data": {
      "text/html": [
       "<div>\n",
       "<style scoped>\n",
       "    .dataframe tbody tr th:only-of-type {\n",
       "        vertical-align: middle;\n",
       "    }\n",
       "\n",
       "    .dataframe tbody tr th {\n",
       "        vertical-align: top;\n",
       "    }\n",
       "\n",
       "    .dataframe thead th {\n",
       "        text-align: right;\n",
       "    }\n",
       "</style>\n",
       "<table border=\"1\" class=\"dataframe\">\n",
       "  <thead>\n",
       "    <tr style=\"text-align: right;\">\n",
       "      <th></th>\n",
       "      <th>Obsesity</th>\n",
       "      <th>Weight</th>\n",
       "    </tr>\n",
       "  </thead>\n",
       "  <tbody>\n",
       "    <tr>\n",
       "      <th>0</th>\n",
       "      <td>0</td>\n",
       "      <td>87</td>\n",
       "    </tr>\n",
       "    <tr>\n",
       "      <th>1</th>\n",
       "      <td>1</td>\n",
       "      <td>115</td>\n",
       "    </tr>\n",
       "    <tr>\n",
       "      <th>2</th>\n",
       "      <td>0</td>\n",
       "      <td>81</td>\n",
       "    </tr>\n",
       "    <tr>\n",
       "      <th>3</th>\n",
       "      <td>0</td>\n",
       "      <td>71</td>\n",
       "    </tr>\n",
       "    <tr>\n",
       "      <th>4</th>\n",
       "      <td>0</td>\n",
       "      <td>79</td>\n",
       "    </tr>\n",
       "  </tbody>\n",
       "</table>\n",
       "</div>"
      ],
      "text/plain": [
       "   Obsesity  Weight\n",
       "0         0      87\n",
       "1         1     115\n",
       "2         0      81\n",
       "3         0      71\n",
       "4         0      79"
      ]
     },
     "execution_count": 41,
     "metadata": {},
     "output_type": "execute_result"
    }
   ],
   "source": [
    "import numpy as np\n",
    "import pandas as pd\n",
    "from sklearn.linear_model import LogisticRegression\n",
    "\n",
    "# generate some data (weight -> obsese)\n",
    "np.random.seed(42)\n",
    "data = pd.DataFrame(np.random.randint(0, 2, size = 100, dtype = 'int'), columns = ['Obsesity'])\n",
    "\n",
    "data['Weight'] = data.Obsesity.apply(lambda x: np.random.randint(90, 120) if x  == 1 else np.random.randint(70, 89))\n",
    "data.head()"
   ]
  },
  {
   "cell_type": "code",
   "execution_count": 167,
   "id": "54cb875d-e921-4a23-9bcb-7195201f7405",
   "metadata": {},
   "outputs": [
    {
     "data": {
      "image/png": "[encoded data removed]",
      "text/plain": [
       "<Figure size 1500x400 with 1 Axes>"
      ]
     },
     "metadata": {},
     "output_type": "display_data"
    }
   ],
   "source": [
    "import matplotlib.pyplot as plt\n",
    "\n",
    "plt.figure(figsize = (15, 4))\n",
    "plt.scatter(data.Weight, data.Obsesity, s = 50, c = 'red')\n",
    "plt.title('Logistic Regression', fontsize = 20, fontweight = 'bold', y = 1.04)\n",
    "plt.gca().spines['top'].set_visible(False)\n",
    "plt.gca().spines['right'].set_visible(False)\n",
    "plt.show()"
   ]
  },
  {
   "cell_type": "code",
   "execution_count": 66,
   "id": "67a53e8e-25c2-4183-864c-25cdbe6a8c3a",
   "metadata": {},
   "outputs": [],
   "source": [
    "from sklearn.model_selection import train_test_split\n",
    "\n",
    "# splitting data\n",
    "x = np.array(data.Weight)\n",
    "y =  np.array(data.Obsesity)\n",
    "\n",
    "x_train, x_test, y_train, y_test = train_test_split(x, y, test_size = 0.33, random_state = 0)"
   ]
  },
  {
   "cell_type": "code",
   "execution_count": 67,
   "id": "b363e647-a732-4349-a678-bcc56f4a124e",
   "metadata": {},
   "outputs": [],
   "source": [
    "m = LogisticRegression()  "
   ]
  },
  {
   "cell_type": "code",
   "execution_count": 75,
   "id": "26aa74fe-feb2-4c3e-9795-2c0d00dd7ca4",
   "metadata": {},
   "outputs": [],
   "source": [
    "# reshape for 2d data\n",
    "x_train = x_train.reshape(67, 1)\n",
    "y_train = y_train.reshape(67, 1)"
   ]
  },
  {
   "cell_type": "code",
   "execution_count": 76,
   "id": "306c8b1f-f0a9-4b6a-a4c4-2f0bd16404a4",
   "metadata": {},
   "outputs": [
    {
     "data": {
      "text/plain": [
       "((67, 1), (67, 1))"
      ]
     },
     "execution_count": 76,
     "metadata": {},
     "output_type": "execute_result"
    }
   ],
   "source": [
    "x_train.shape, y_train.shape"
   ]
  },
  {
   "cell_type": "code",
   "execution_count": 77,
   "id": "a6c8386d-cf1d-4109-bcf9-72b19eb00c02",
   "metadata": {},
   "outputs": [
    {
     "name": "stderr",
     "output_type": "stream",
     "text": [
      "/Users/nathan/anaconda3/lib/python3.10/site-packages/sklearn/utils/validation.py:1143: DataConversionWarning: A column-vector y was passed when a 1d array was expected. Please change the shape of y to (n_samples, ), for example using ravel().\n",
      "  y = column_or_1d(y, warn=True)\n"
     ]
    },
    {
     "data": {
      "text/html": [
       "<style>#sk-container-id-1 {color: black;background-color: white;}#sk-container-id-1 pre{padding: 0;}#sk-container-id-1 div.sk-toggleable {background-color: white;}#sk-container-id-1 label.sk-toggleable__label {cursor: pointer;display: block;width: 100%;margin-bottom: 0;padding: 0.3em;box-sizing: border-box;text-align: center;}#sk-container-id-1 label.sk-toggleable__label-arrow:before {content: \"▸\";float: left;margin-right: 0.25em;color: #696969;}#sk-container-id-1 label.sk-toggleable__label-arrow:hover:before {color: black;}#sk-container-id-1 div.sk-estimator:hover label.sk-toggleable__label-arrow:before {color: black;}#sk-container-id-1 div.sk-toggleable__content {max-height: 0;max-width: 0;overflow: hidden;text-align: left;background-color: #f0f8ff;}#sk-container-id-1 div.sk-toggleable__content pre {margin: 0.2em;color: black;border-radius: 0.25em;background-color: #f0f8ff;}#sk-container-id-1 input.sk-toggleable__control:checked~div.sk-toggleable__content {max-height: 200px;max-width: 100%;overflow: auto;}#sk-container-id-1 input.sk-toggleable__control:checked~label.sk-toggleable__label-arrow:before {content: \"▾\";}#sk-container-id-1 div.sk-estimator input.sk-toggleable__control:checked~label.sk-toggleable__label {background-color: #d4ebff;}#sk-container-id-1 div.sk-label input.sk-toggleable__control:checked~label.sk-toggleable__label {background-color: #d4ebff;}#sk-container-id-1 input.sk-hidden--visually {border: 0;clip: rect(1px 1px 1px 1px);clip: rect(1px, 1px, 1px, 1px);height: 1px;margin: -1px;overflow: hidden;padding: 0;position: absolute;width: 1px;}#sk-container-id-1 div.sk-estimator {font-family: monospace;background-color: #f0f8ff;border: 1px dotted black;border-radius: 0.25em;box-sizing: border-box;margin-bottom: 0.5em;}#sk-container-id-1 div.sk-estimator:hover {background-color: #d4ebff;}#sk-container-id-1 div.sk-parallel-item::after {content: \"\";width: 100%;border-bottom: 1px solid gray;flex-grow: 1;}#sk-container-id-1 div.sk-label:hover label.sk-toggleable__label {background-color: #d4ebff;}#sk-container-id-1 div.sk-serial::before {content: \"\";position: absolute;border-left: 1px solid gray;box-sizing: border-box;top: 0;bottom: 0;left: 50%;z-index: 0;}#sk-container-id-1 div.sk-serial {display: flex;flex-direction: column;align-items: center;background-color: white;padding-right: 0.2em;padding-left: 0.2em;position: relative;}#sk-container-id-1 div.sk-item {position: relative;z-index: 1;}#sk-container-id-1 div.sk-parallel {display: flex;align-items: stretch;justify-content: center;background-color: white;position: relative;}#sk-container-id-1 div.sk-item::before, #sk-container-id-1 div.sk-parallel-item::before {content: \"\";position: absolute;border-left: 1px solid gray;box-sizing: border-box;top: 0;bottom: 0;left: 50%;z-index: -1;}#sk-container-id-1 div.sk-parallel-item {display: flex;flex-direction: column;z-index: 1;position: relative;background-color: white;}#sk-container-id-1 div.sk-parallel-item:first-child::after {align-self: flex-end;width: 50%;}#sk-container-id-1 div.sk-parallel-item:last-child::after {align-self: flex-start;width: 50%;}#sk-container-id-1 div.sk-parallel-item:only-child::after {width: 0;}#sk-container-id-1 div.sk-dashed-wrapped {border: 1px dashed gray;margin: 0 0.4em 0.5em 0.4em;box-sizing: border-box;padding-bottom: 0.4em;background-color: white;}#sk-container-id-1 div.sk-label label {font-family: monospace;font-weight: bold;display: inline-block;line-height: 1.2em;}#sk-container-id-1 div.sk-label-container {text-align: center;}#sk-container-id-1 div.sk-container {/* jupyter's `normalize.less` sets `[hidden] { display: none; }` but bootstrap.min.css set `[hidden] { display: none !important; }` so we also need the `!important` here to be able to override the default hidden behavior on the sphinx rendered scikit-learn.org. See: https://github.com/scikit-learn/scikit-learn/issues/21755 */display: inline-block !important;position: relative;}#sk-container-id-1 div.sk-text-repr-fallback {display: none;}</style><div id=\"sk-container-id-1\" class=\"sk-top-container\"><div class=\"sk-text-repr-fallback\"><pre>LogisticRegression()</pre><b>In a Jupyter environment, please rerun this cell to show the HTML representation or trust the notebook. <br />On GitHub, the HTML representation is unable to render, please try loading this page with nbviewer.org.</b></div><div class=\"sk-container\" hidden><div class=\"sk-item\"><div class=\"sk-estimator sk-toggleable\"><input class=\"sk-toggleable__control sk-hidden--visually\" id=\"sk-estimator-id-1\" type=\"checkbox\" checked><label for=\"sk-estimator-id-1\" class=\"sk-toggleable__label sk-toggleable__label-arrow\">LogisticRegression</label><div class=\"sk-toggleable__content\"><pre>LogisticRegression()</pre></div></div></div></div></div>"
      ],
      "text/plain": [
       "LogisticRegression()"
      ]
     },
     "execution_count": 77,
     "metadata": {},
     "output_type": "execute_result"
    }
   ],
   "source": [
    "m.fit(x_train, y_train)"
   ]
  },
  {
   "cell_type": "code",
   "execution_count": 79,
   "id": "0188fdd2-d1ca-4bf6-81d8-e6a4224971bf",
   "metadata": {},
   "outputs": [
    {
     "data": {
      "text/plain": [
       "(array([[1.20744162]]), array([-106.74360343]))"
      ]
     },
     "execution_count": 79,
     "metadata": {},
     "output_type": "execute_result"
    }
   ],
   "source": [
    "# actual slope and intercept\n",
    "m.coef_, m.intercept_"
   ]
  },
  {
   "cell_type": "code",
   "execution_count": 168,
   "id": "641ec964-1c3b-4aa6-9785-cbd3d39bbe83",
   "metadata": {},
   "outputs": [],
   "source": [
    "# adding results to a Dataframe\n",
    "data_predict = pd.DataFrame(m.predict(x_test.reshape(33, 1)), columns = ['Predict'])\n",
    "data_predict['True_Values'] = y_test\n",
    "data_predict.head()"
   ]
  },
  {
   "cell_type": "code",
   "execution_count": 169,
   "id": "09ab1ee5-87c1-47aa-b0c6-8bb0e41785db",
   "metadata": {},
   "outputs": [],
   "source": [
    "# verify the loss\n",
    "lst_grade = []\n",
    "\n",
    "for _, row in data_predict.iterrows():\n",
    "    if row.Predict == row.True_Values:\n",
    "        lst_grade.append(1)\n",
    "        \n",
    "assert sum(lst_grade) == data_predict.shape[0]   # both column are same"
   ]
  },
  {
   "cell_type": "markdown",
   "id": "223fbf92-b40b-4292-b100-c9e96d581e10",
   "metadata": {},
   "source": [
    "<div style=\"text-align: center; font-size: 150%;\">\n",
    "\\[\n",
    "\\text{Loss}(\\hat{y}, y) = - (\\hat{y} \\log(y) + (1 - y) \\log(1 - \\hat{y}))\n",
    "\\]\n",
    "</div>"
   ]
  },
  {
   "cell_type": "code",
   "execution_count": 166,
   "id": "f2d0ce9b-2c11-4179-9e4c-16f815629029",
   "metadata": {},
   "outputs": [],
   "source": [
    "# sigmoïd Fonction \n",
    "def sigmoid(x):\n",
    "    return 1 / (1 + np.exp(-x))"
   ]
  },
  {
   "cell_type": "code",
   "execution_count": 157,
   "id": "8707247f-5272-43ef-a949-06ef3e440495",
   "metadata": {},
   "outputs": [],
   "source": [
    "data_predict['Probabilities'] = sigmoid(m.coef_ * x_test + m.intercept_)[0]"
   ]
  },
  {
   "cell_type": "code",
   "execution_count": 160,
   "id": "9c55b618-1950-4d12-8c77-46bdabd38534",
   "metadata": {},
   "outputs": [],
   "source": [
    "def loss_function(y_theta, y):\n",
    "    return - (y_theta * np.log(y) + (1 - y) * np.log(1 - y_theta))"
   ]
  },
  {
   "cell_type": "code",
   "execution_count": 162,
   "id": "c26710e6-3f09-4ed9-90bd-bb0b1d5dc5fe",
   "metadata": {},
   "outputs": [],
   "source": [
    "data_loss = data_predict[data_predict.True_Values == 1]\n",
    "\n",
    "lst_sum =[]\n",
    "\n",
    "for _, row in data_loss.iterrows():\n",
    "    loss_num = loss_function(row.Probabilities, row.True_Values)\n",
    "    lst_sum.append(loss_num)"
   ]
  },
  {
   "cell_type": "code",
   "execution_count": 165,
   "id": "fef29adb-09e1-4b21-b449-9792fd435482",
   "metadata": {},
   "outputs": [
    {
     "data": {
      "text/plain": [
       "0.0"
      ]
     },
     "execution_count": 165,
     "metadata": {},
     "output_type": "execute_result"
    }
   ],
   "source": [
    "np.sum(lst_sum)  # losses"
   ]
  },
  {
   "cell_type": "markdown",
   "id": "8977c3a9-51ae-48ad-be75-94883f1809fe",
   "metadata": {},
   "source": [
    "## Somes Predictions"
   ]
  },
  {
   "cell_type": "code",
   "execution_count": 95,
   "id": "14593fdc-671d-4b0d-bb7e-08fa91e065dc",
   "metadata": {},
   "outputs": [
    {
     "data": {
      "text/plain": [
       "array([0])"
      ]
     },
     "execution_count": 95,
     "metadata": {},
     "output_type": "execute_result"
    }
   ],
   "source": [
    "# exemple of random weight\n",
    "m.predict([[80]])"
   ]
  },
  {
   "cell_type": "code",
   "execution_count": 113,
   "id": "f856084b-a48c-45dc-a1bb-b1f85391e31d",
   "metadata": {},
   "outputs": [
    {
     "data": {
      "text/plain": [
       "array([[0.99965214]])"
      ]
     },
     "execution_count": 113,
     "metadata": {},
     "output_type": "execute_result"
    }
   ],
   "source": [
    "# exemple of probability to be in class 1\n",
    "sigmoid(m.coef_ * 95 + m.intercept_)"
   ]
  },
  {
   "cell_type": "code",
   "execution_count": 147,
   "id": "3d98dc71-125e-4f53-a574-ce299d20b734",
   "metadata": {},
   "outputs": [
    {
     "data": {
      "image/png": "[encoded data removed]",
      "text/plain": [
       "<Figure size 1500x400 with 1 Axes>"
      ]
     },
     "metadata": {},
     "output_type": "display_data"
    }
   ],
   "source": [
    "# generate some data to receved some probabilities\n",
    "generate_weights = np.random.randint(low = 80, high = 100, size = 200, dtype ='int')\n",
    "\n",
    "plt.figure(figsize = (15, 4))\n",
    "plt.scatter(data.Weight, data.Obsesity, s = 50, c = 'red')\n",
    "\n",
    "plt.scatter(generate_weights, sigmoid(m.coef_ * generate_weights + m.intercept_), c = 'blue')\n",
    "\n",
    "plt.title('Logistic Regression', fontsize = 20, fontweight = 'bold', y = 1.04)\n",
    "plt.gca().spines['top'].set_visible(False)\n",
    "plt.gca().spines['right'].set_visible(False)\n",
    "plt.show()"
   ]
  }
 ],
 "metadata": {
  "kernelspec": {
   "display_name": "Python 3 (ipykernel)",
   "language": "python",
   "name": "python3"
  },
  "language_info": {
   "codemirror_mode": {
    "name": "ipython",
    "version": 3
   },
   "file_extension": ".py",
   "mimetype": "text/x-python",
   "name": "python",
   "nbconvert_exporter": "python",
   "pygments_lexer": "ipython3",
   "version": "3.10.9"
  }
 },
 "nbformat": 4,
 "nbformat_minor": 5
}
